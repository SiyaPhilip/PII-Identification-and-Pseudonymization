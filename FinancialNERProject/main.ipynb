{
 "cells": [
  {
   "cell_type": "code",
   "execution_count": 2,
   "metadata": {},
   "outputs": [
    {
     "name": "stdout",
     "output_type": "stream",
     "text": [
      "[['VAT: GB123 4567 89', {'entities': [[5, 18, 'VAT']]}], ['VAT Number: GB123 4567 89', {'entities': [[12, 25, 'VAT']]}], ['VAT: GB234 5678 90', {'entities': [[5, 18, 'VAT']]}], ['VAT Number: GB234 5678 90', {'entities': [[12, 25, 'VAT']]}], ['VAT: GB345 6789 01', {'entities': [[5, 18, 'VAT']]}], ['VAT Number: GB345 6789 01', {'entities': [[12, 25, 'VAT']]}], ['VAT: GB456 7890 12', {'entities': [[5, 18, 'VAT']]}], ['VAT Number: GB456 7890 12', {'entities': [[12, 25, 'VAT']]}], ['VAT: GB567 8901 23', {'entities': [[5, 18, 'VAT']]}], ['VAT Number: GB567 8901 23', {'entities': [[12, 25, 'VAT']]}], ['VAT: GB678 9012 34', {'entities': [[5, 18, 'VAT']]}], ['VAT Number: GB678 9012 34', {'entities': [[12, 25, 'VAT']]}], ['VAT: GB789 0123 45', {'entities': [[5, 18, 'VAT']]}], ['VAT Number: GB789 0123 45', {'entities': [[12, 25, 'VAT']]}], ['VAT: GB890 1234 56', {'entities': [[5, 18, 'VAT']]}], ['VAT Number: GB890 1234 56', {'entities': [[12, 25, 'VAT']]}], ['VAT: GB901 2345 67', {'entities': [[5, 18, 'VAT']]}], ['VAT Number: GB901 2345 67', {'entities': [[12, 25, 'VAT']]}], ['VAT: GB987 6543 21', {'entities': [[5, 18, 'VAT']]}], ['VAT Number: GB987 6543 21', {'entities': [[12, 25, 'VAT']]}], ['VAT: GB876 5432 10', {'entities': [[5, 18, 'VAT']]}], ['VAT Number: GB876 5432 10', {'entities': [[12, 25, 'VAT']]}], ['VAT: GB765 4321 09', {'entities': [[5, 18, 'VAT']]}], ['VAT Number: GB765 4321 09', {'entities': [[12, 25, 'VAT']]}], ['VAT: GB654 3210 98', {'entities': [[5, 18, 'VAT']]}], ['VAT Number: GB654 3210 98', {'entities': [[12, 25, 'VAT']]}], ['VAT: GB543 2109 87', {'entities': [[5, 18, 'VAT']]}], ['VAT Number: GB543 2109 87', {'entities': [[12, 25, 'VAT']]}], ['VAT: GB432 1098 76', {'entities': [[5, 18, 'VAT']]}], ['VAT Number: GB432 1098 76', {'entities': [[12, 25, 'VAT']]}], ['VAT: GB321 0987 65', {'entities': [[5, 18, 'VAT']]}], ['VAT Number: GB321 0987 65', {'entities': [[12, 25, 'VAT']]}], ['VAT: GB210 9876 54', {'entities': [[5, 18, 'VAT']]}], ['VAT Number: GB210 9876 54', {'entities': [[12, 25, 'VAT']]}], ['VAT: GB109 8765 43', {'entities': [[5, 18, 'VAT']]}], ['VAT Number: GB109 8765 43', {'entities': [[12, 25, 'VAT']]}], ['VAT: GB567 4321 89', {'entities': [[5, 18, 'VAT']]}], ['VAT Number: GB567 4321 89', {'entities': [[12, 25, 'VAT']]}], ['VAT: GB321 7564 98', {'entities': [[5, 18, 'VAT']]}], ['VAT Number: GB321 7564 98', {'entities': [[12, 25, 'VAT']]}], ['My name is Siya Philip.', {'entities': [[11, 23, 'FULL_NAME']]}], ['People also call me Siya.', {'entities': [[20, 25, 'FULL_NAME']]}], [\"I have a friend named Hannah O'Gallachoir. She is also my manager at work.\", {'entities': [[22, 42, 'FULL_NAME']]}], ['My friends name is John Doe.', {'entities': [[19, 28, 'FULL_NAME']]}], ['Jane is my neighbor.', {'entities': [[0, 5, 'FULL_NAME']]}], [\"I'm meeting with Alex Johnson tomorrow.\", {'entities': [[17, 31, 'FULL_NAME']]}], ['My colleague Sarah Brown will be joining the meeting.', {'entities': [[13, 26, 'FULL_NAME']]}], ['Emily Taylor is the CEO of the company.', {'entities': [[0, 13, 'FULL_NAME']]}], ['My best friend is Tom Hanks.', {'entities': [[18, 28, 'FULL_NAME']]}], [\"I'm going out with Emma Watson.\", {'entities': [[19, 31, 'FULL_NAME']]}], ['James Bond is a famous spy.', {'entities': [[0, 11, 'FULL_NAME']]}], ['Linda Clark is the head of HR.', {'entities': [[0, 12, 'FULL_NAME']]}], ['My doctor is Dr. Michael Smith.', {'entities': [[17, 31, 'FULL_NAME']]}], ['Her Name is Hannha.', {'entities': [[12, 19, 'FULL_NAME']]}], ['His Name is John.', {'entities': [[12, 17, 'FULL_NAME']]}], ['Her Name is Kavya.', {'entities': [[12, 18, 'FULL_NAME']]}], ['His Name is Ravi.', {'entities': [[12, 17, 'FULL_NAME']]}], ['His Name is Robbie.', {'entities': [[12, 19, 'FULL_NAME']]}], ['Her Name is Lissa.', {'entities': [[12, 18, 'FULL_NAME']]}], ['Her Name is Tina.', {'entities': [[12, 17, 'FULL_NAME']]}], ['Her Name is Tammy.', {'entities': [[12, 18, 'FULL_NAME']]}], ['His Name is Nelson.', {'entities': [[12, 19, 'FULL_NAME']]}], ['Her Name is Hayley.', {'entities': [[12, 19, 'FULL_NAME']]}], ['His Name is Patrick.', {'entities': [[12, 20, 'FULL_NAME']]}], ['Address: 1 Donegall Square West, Belfast, BT1 6JH ', {'entities': [[9, 48, 'ADDRESS']]}], ['Address: 18 Ormeau Avenue, Belfast, BT2 8HS ', {'entities': [[9, 42, 'ADDRESS']]}], ['Address: 10 Castle Lane, Belfast, BT1 5DA', {'entities': [[9, 40, 'ADDRESS']]}], ['Address: 21 Linenhall Street, Belfast, BT2 8BS ', {'entities': [[9, 45, 'ADDRESS']]}], ['Address: 9 Malone Road, Belfast, BT9 6RT ', {'entities': [[9, 39, 'ADDRESS']]}], ['Address: 2 Stranmillis Road, Belfast, BT9 5AA ', {'entities': [[9, 44, 'ADDRESS']]}], ['Address: 35 Church Lane, Belfast, BT1 4QN ', {'entities': [[9, 40, 'ADDRESS']]}], ['Address: 6 Howard Street, Belfast, BT1 6NB ', {'entities': [[9, 41, 'ADDRESS']]}], ['Address: 14 University Road, Belfast, BT7 1GY ', {'entities': [[9, 42, 'ADDRESS']]}], ['Address: 3 Queen Street, Belfast, BT1 6EA ', {'entities': [[9, 40, 'ADDRESS']]}], ['Address: 22 Bedford Street, Belfast, BT2 7FE ', {'entities': [[9, 41, 'ADDRESS']]}], ['Address: 7 Botanic Avenue, Belfast, BT7 1JG ', {'entities': [[9, 42, 'ADDRESS']]}], ['Address: 29 Arthur Street, Belfast, BT1 4GQ ', {'entities': [[9, 42, 'ADDRESS']]}], ['Address: 11-16 Donegall Square East, Belfast, BT1 5UB ', {'entities': [[9, 52, 'ADDRESS']]}], ['Address: 4-6 Waring Street, Belfast, BT1 2DX ', {'entities': [[9, 43, 'ADDRESS']]}], ['Address: 19 Victoria Street, Belfast, BT1 3GA ', {'entities': [[9, 44, 'ADDRESS']]}], ['Address: 44 Hill Street, Belfast, BT1 2LB ', {'entities': [[9, 40, 'ADDRESS']]}], ['Address: 8 Donegall Square North, Belfast, BT1 5GB ', {'entities': [[9, 49, 'ADDRESS']]}], ['Address: 16 Royal Avenue, Belfast, BT1 1DA ', {'entities': [[9, 41, 'ADDRESS']]}], ['Address: 2 Arthur Square, Belfast, BT1 4FB ', {'entities': [[9, 41, 'ADDRESS']]}], ['Address: 25 Donegall Place, Belfast, BT1 5AA ', {'entities': [[9, 43, 'ADDRESS']]}], ['Address: 13 Bedford Street, Belfast, BT2 7FF ', {'entities': [[9, 43, 'ADDRESS']]}], ['Address: 36-38 High Street, Belfast, BT1 2BE ', {'entities': [[9, 43, 'ADDRESS']]}], ['Address: 1 Victoria Square, Belfast, BT1 4QG ', {'entities': [[9, 43, 'ADDRESS']]}], ['Address: 9 Hill Street, Belfast, BT1 2LA ', {'entities': [[9, 39, 'ADDRESS']]}], ['John Doe lives at 71 Meadowlands, Downpatrick, BT306HG.', {'entities': [[0, 8, 'FULL_NAME'], [18, 54, 'ADDRESS']]}], ['Siya Philip lives at 7 Patricks Road, Carryduff, Belfast, BT14DG.', {'entities': [[0, 11, 'FULL_NAME'], [21, 64, 'ADDRESS']]}], ['Avanti Sharma lives at 21 Ashley Avenue, Saintfield, Belfast, BT36PO.', {'entities': [[0, 13, 'FULL_NAME'], [23, 68, 'ADDRESS']]}], ['Jamie lives at 46 Heylew, Crossgar, BT306HG.', {'entities': [[0, 5, 'FULL_NAME'], [15, 43, 'ADDRESS']]}], ['Robert lives at 34 Whitehead, Belfast, BT306HG.', {'entities': [[0, 6, 'FULL_NAME'], [16, 46, 'ADDRESS']]}], ['Emma Smith lives at 12 Primrose Lane, Downpatrick, BT306HG.', {'entities': [[0, 10, 'FULL_NAME'], [20, 58, 'ADDRESS']]}], ['Michael Johnson lives at 9 Elm Street, Carryduff, Belfast, BT14DG.', {'entities': [[0, 15, 'FULL_NAME'], [25, 65, 'ADDRESS']]}], ['Sophia Patel lives at 28 Maple Avenue, Saintfield, Belfast, BT36PO.', {'entities': [[0, 12, 'FULL_NAME'], [22, 66, 'ADDRESS']]}], ['Oliver Davis lives at 63 Oakwood Drive, Crossgar, BT306HG.', {'entities': [[0, 12, 'FULL_NAME'], [22, 57, 'ADDRESS']]}], ['Isabella Brown lives at 17 Cedar Road, Belfast, BT306HG.', {'entities': [[0, 14, 'FULL_NAME'], [24, 55, 'ADDRESS']]}], ['William Jones lives at 8 Birch Street, Downpatrick, BT306HG.', {'entities': [[0, 13, 'FULL_NAME'], [23, 59, 'ADDRESS']]}], ['Ella Wilson lives at 5 Ash Lane, Carryduff, Belfast, BT14DG.', {'entities': [[0, 11, 'FULL_NAME'], [21, 59, 'ADDRESS']]}], ['Noah Taylor Smith lives at 37 Pine Road, Saintfield, Belfast, BT36PO.', {'entities': [[0, 17, 'FULL_NAME'], [27, 68, 'ADDRESS']]}], ['Charlotte Martin John lives at 24 Sycamore Drive, Crossgar, BT306HG.', {'entities': [[0, 21, 'FULL_NAME'], [31, 67, 'ADDRESS']]}], ['Jacob Thomas Alvin lives at 10 Chestnut Close, Belfast, BT306HG.', {'entities': [[0, 18, 'FULL_NAME'], [28, 63, 'ADDRESS']]}], ['Gross Pay: £12,345.67', {'entities': [[11, 21, 'Salary']]}], ['Net Pay: £12,345.67', {'entities': [[9, 19, 'Salary']]}], ['Salary: £12,345.67', {'entities': [[8, 18, 'Salary']]}], ['Gross Pay: £23,456.78', {'entities': [[11, 21, 'Salary']]}], ['Net Pay: £23,456.78', {'entities': [[9, 19, 'Salary']]}], ['Salary: £23,456.78', {'entities': [[8, 18, 'Salary']]}], ['Gross Pay: £34,567.89', {'entities': [[11, 21, 'Salary']]}], ['Net Pay: £34,567.89', {'entities': [[9, 19, 'Salary']]}], ['Salary: £34,567.89', {'entities': [[8, 18, 'Salary']]}], ['Gross Pay: £45,678.90', {'entities': [[11, 21, 'Salary']]}], ['Net Pay: £45,678.90', {'entities': [[9, 19, 'Salary']]}], ['Salary: £45,678.90', {'entities': [[8, 18, 'Salary']]}], ['Gross Pay: £56,789.01', {'entities': [[11, 21, 'Salary']]}], ['Net Pay: £56,789.01', {'entities': [[9, 19, 'Salary']]}], ['Salary: £56,789.01', {'entities': [[8, 18, 'Salary']]}], ['Gross Pay: £67,890,12', {'entities': [[11, 21, 'Salary']]}], ['Net Pay: £67,890,12', {'entities': [[9, 19, 'Salary']]}], ['Salary: £67,890,12', {'entities': [[8, 18, 'Salary']]}], ['Gross Pay: £78,901.23', {'entities': [[11, 21, 'Salary']]}], ['Net Pay: £78,901.23', {'entities': [[9, 19, 'Salary']]}], ['Salary: £78,901.23', {'entities': [[8, 18, 'Salary']]}], ['Gross Pay: £89,012.34', {'entities': [[11, 21, 'Salary']]}], ['Net Pay: £89,012.34', {'entities': [[9, 19, 'Salary']]}], ['Salary: £89,012.34', {'entities': [[8, 18, 'Salary']]}], ['Gross Pay: £90,123.45', {'entities': [[11, 21, 'Salary']]}], ['Net Pay: £90,123.45', {'entities': [[9, 19, 'Salary']]}], ['Salary: £90,123.45', {'entities': [[8, 18, 'Salary']]}], ['Gross Pay: £98,765.43', {'entities': [[11, 21, 'Salary']]}], ['Net Pay: £98,765.43', {'entities': [[9, 19, 'Salary']]}], ['Salary: £98,765.43', {'entities': [[8, 18, 'Salary']]}], ['Gross Pay: £87,654.32', {'entities': [[11, 21, 'Salary']]}], ['Net Pay: £87,654.32', {'entities': [[9, 19, 'Salary']]}], ['Salary: £87,654.32', {'entities': [[8, 18, 'Salary']]}], ['Gross Pay: £76,543.21', {'entities': [[11, 21, 'Salary']]}], ['Net Pay: £76,543.21', {'entities': [[9, 19, 'Salary']]}], ['Salary: £76,543.21', {'entities': [[8, 18, 'Salary']]}], ['Gross Pay: £65,432.19', {'entities': [[11, 21, 'Salary']]}], ['Net Pay: £65,432.19', {'entities': [[9, 19, 'Salary']]}], ['Salary: £65,432.19', {'entities': [[8, 18, 'Salary']]}], ['Gross Pay: £54,321.09', {'entities': [[11, 21, 'Salary']]}], ['Net Pay: £54,321.09', {'entities': [[9, 19, 'Salary']]}], ['Salary: £54,321.09', {'entities': [[8, 18, 'Salary']]}], ['Gross Pay: £43,210.98', {'entities': [[11, 21, 'Salary']]}], ['Net Pay: £43,210.98', {'entities': [[9, 19, 'Salary']]}], ['Salary: £43,210.98', {'entities': [[8, 18, 'Salary']]}], ['Gross Pay: £32,109.87', {'entities': [[11, 21, 'Salary']]}], ['Net Pay: £32,109.87', {'entities': [[9, 19, 'Salary']]}], ['Salary: £32,109.87', {'entities': [[8, 18, 'Salary']]}], ['Gross Pay: £21,098.76', {'entities': [[11, 21, 'Salary']]}], ['Net Pay: £21,098.76', {'entities': [[9, 19, 'Salary']]}], ['Salary: £21,098.76', {'entities': [[8, 18, 'Salary']]}], ['Gross Pay: £10,987.65', {'entities': [[11, 21, 'Salary']]}], ['Net Pay: £10,987.65', {'entities': [[9, 19, 'Salary']]}], ['Salary: £10,987.65', {'entities': [[8, 18, 'Salary']]}], ['Gross Pay: £67,543.89', {'entities': [[11, 21, 'Salary']]}], ['Net Pay: £67,543.89', {'entities': [[9, 19, 'Salary']]}], ['Salary: £67,543.89', {'entities': [[8, 18, 'Salary']]}], ['Gross Pay: £45,321.67', {'entities': [[11, 21, 'Salary']]}], ['Net Pay: £45,321.67', {'entities': [[9, 19, 'Salary']]}], ['Salary: £45,321.67', {'entities': [[8, 18, 'Salary']]}], ['Tax Code: 1257L', {'entities': [[10, 15, 'TaxCode']]}], ['My Tax Code is: 1257L', {'entities': [[16, 21, 'TaxCode']]}], ['Tax Code: 1345S', {'entities': [[10, 15, 'TaxCode']]}], ['My Tax Code is: 1345S', {'entities': [[16, 21, 'TaxCode']]}], ['Tax Code: 1556R', {'entities': [[10, 15, 'TaxCode']]}], ['My Tax Code is: 1556R', {'entities': [[16, 21, 'TaxCode']]}], ['Tax Code: 1567Q', {'entities': [[10, 15, 'TaxCode']]}], ['My Tax Code is: 1567Q', {'entities': [[16, 21, 'TaxCode']]}], ['Tax Code: 1678P', {'entities': [[10, 15, 'TaxCode']]}], ['My Tax Code is: 1678P', {'entities': [[16, 21, 'TaxCode']]}], ['Tax Code: 1789O', {'entities': [[10, 15, 'TaxCode']]}], ['My Tax Code is: 1789O', {'entities': [[16, 21, 'TaxCode']]}], ['Tax Code: 1890N', {'entities': [[10, 15, 'TaxCode']]}], ['My Tax Code is: 1890N', {'entities': [[16, 21, 'TaxCode']]}], ['Tax Code: 1901M', {'entities': [[10, 15, 'TaxCode']]}], ['My Tax Code is: 1901M', {'entities': [[16, 21, 'TaxCode']]}], ['Tax Code: 1987L', {'entities': [[10, 15, 'TaxCode']]}], ['My Tax Code is: 1987L', {'entities': [[16, 21, 'TaxCode']]}], ['Tax Code: 1876K', {'entities': [[10, 15, 'TaxCode']]}], ['My Tax Code is: 1876K', {'entities': [[16, 21, 'TaxCode']]}], ['Tax Code: 1765J', {'entities': [[10, 15, 'TaxCode']]}], ['My Tax Code is: 1765J', {'entities': [[16, 21, 'TaxCode']]}], ['Tax Code: 1654I', {'entities': [[10, 15, 'TaxCode']]}], ['My Tax Code is: 1654I', {'entities': [[16, 21, 'TaxCode']]}], ['Tax Code: 1543H', {'entities': [[10, 15, 'TaxCode']]}], ['My Tax Code is: 1543H', {'entities': [[16, 21, 'TaxCode']]}], ['Tax Code: 1532G', {'entities': [[10, 15, 'TaxCode']]}], ['My Tax Code is: 1532G', {'entities': [[16, 21, 'TaxCode']]}], ['Tax Code: 1321F', {'entities': [[10, 15, 'TaxCode']]}], ['My Tax Code is: 1321F', {'entities': [[16, 21, 'TaxCode']]}], ['Tax Code: 1210E', {'entities': [[10, 15, 'TaxCode']]}], ['My Tax Code is: 1210E', {'entities': [[16, 21, 'TaxCode']]}], ['Tax Code: 1123D', {'entities': [[10, 15, 'TaxCode']]}], ['My Tax Code is: 1257D', {'entities': [[16, 21, 'TaxCode']]}], ['Tax Code: 1918C', {'entities': [[10, 15, 'TaxCode']]}], ['My Tax Code is: 1918C', {'entities': [[16, 21, 'TaxCode']]}], ['Tax Code: 1827B', {'entities': [[10, 15, 'TaxCode']]}], ['My Tax Code is: 1827B', {'entities': [[16, 21, 'TaxCode']]}], ['Tax Code: 1736A', {'entities': [[10, 15, 'TaxCode']]}], ['My Tax Code is: 1736A', {'entities': [[16, 21, 'TaxCode']]}], ['Account Number: 01581824', {'entities': [[16, 24, 'BAN']]}], ['Bank Account Number: 01581824', {'entities': [[21, 29, 'BAN']]}], ['My bank account number is 01581824', {'entities': [[26, 34, 'BAN']]}], ['Account Number: 56103648', {'entities': [[16, 24, 'BAN']]}], ['Bank Account Number: 56103648', {'entities': [[21, 29, 'BAN']]}], ['My bank account number is 56103648', {'entities': [[26, 34, 'BAN']]}], ['Account Number: 75647460', {'entities': [[16, 24, 'BAN']]}], ['Bank Account Number: 75647460', {'entities': [[21, 29, 'BAN']]}], ['My bank account number is 75647460', {'entities': [[26, 34, 'BAN']]}], ['Account Number: 01095244', {'entities': [[16, 24, 'BAN']]}], ['Bank Account Number: 01095244', {'entities': [[21, 29, 'BAN']]}], ['My bank account number is 01095244', {'entities': [[26, 34, 'BAN']]}], ['Account Number: 44555111', {'entities': [[16, 24, 'BAN']]}], ['Bank Account Number: 44555111', {'entities': [[21, 29, 'BAN']]}], ['My bank account number is 44555111', {'entities': [[26, 34, 'BAN']]}], ['Account Number: 34436365', {'entities': [[16, 24, 'BAN']]}], ['Bank Account Number: 34436365', {'entities': [[21, 29, 'BAN']]}], ['My bank account number is 34436365', {'entities': [[26, 34, 'BAN']]}], ['Account Number: 69096129', {'entities': [[16, 24, 'BAN']]}], ['Bank Account Number: 69096129', {'entities': [[21, 29, 'BAN']]}], ['My bank account number is 69096129', {'entities': [[26, 34, 'BAN']]}], ['Account Number: 44891030', {'entities': [[16, 24, 'BAN']]}], ['Bank Account Number: 44891030', {'entities': [[21, 29, 'BAN']]}], ['My bank account number is 44891030', {'entities': [[26, 34, 'BAN']]}], ['Account Number: 72667530', {'entities': [[16, 24, 'BAN']]}], ['Bank Account Number: 72667530', {'entities': [[21, 29, 'BAN']]}], ['My bank account number is 72667530', {'entities': [[26, 34, 'BAN']]}], ['Account Number: 01453569', {'entities': [[16, 24, 'BAN']]}], ['Bank Account Number: 01453569', {'entities': [[21, 29, 'BAN']]}], ['My bank account number is 01453569', {'entities': [[26, 34, 'BAN']]}], ['Account Number: 43864944', {'entities': [[16, 24, 'BAN']]}], ['Bank Account Number: 43864944', {'entities': [[21, 29, 'BAN']]}], ['My bank account number is 43864944', {'entities': [[26, 34, 'BAN']]}], ['Account Number: 12437839', {'entities': [[16, 24, 'BAN']]}], ['Bank Account Number: 12437839', {'entities': [[21, 29, 'BAN']]}], ['My bank account number is 12437839', {'entities': [[26, 34, 'BAN']]}], ['Account Number: 59803562', {'entities': [[16, 24, 'BAN']]}], ['Bank Account Number: 59803562', {'entities': [[21, 29, 'BAN']]}], ['My bank account number is 59803562', {'entities': [[26, 34, 'BAN']]}], ['Account Number: 12252647', {'entities': [[16, 24, 'BAN']]}], ['Bank Account Number: 12252647', {'entities': [[21, 29, 'BAN']]}], ['My bank account number is 12252647', {'entities': [[26, 34, 'BAN']]}], ['Account Number: 72947219', {'entities': [[16, 24, 'BAN']]}], ['Bank Account Number: 72947219', {'entities': [[21, 29, 'BAN']]}], ['My bank account number is 72947219', {'entities': [[26, 34, 'BAN']]}], ['Account Number: 99796457', {'entities': [[16, 24, 'BAN']]}], ['Bank Account Number: 99796457', {'entities': [[21, 29, 'BAN']]}], ['My bank account number is 99796457', {'entities': [[26, 34, 'BAN']]}], ['Account Number: 54041165', {'entities': [[16, 24, 'BAN']]}], ['Bank Account Number: 54041165', {'entities': [[21, 29, 'BAN']]}], ['My bank account number is 54041165', {'entities': [[26, 34, 'BAN']]}], ['Account Number: 25458467', {'entities': [[16, 24, 'BAN']]}], ['Bank Account Number: 25458467', {'entities': [[21, 29, 'BAN']]}], ['My bank account number is 25458467', {'entities': [[26, 34, 'BAN']]}], ['Account Number: 22224934', {'entities': [[16, 24, 'BAN']]}], ['Bank Account Number: 22224934', {'entities': [[21, 29, 'BAN']]}], ['My bank account number is 22224934', {'entities': [[26, 34, 'BAN']]}], ['Account Number: 26145156', {'entities': [[16, 24, 'BAN']]}], ['Bank Account Number: 26145156', {'entities': [[21, 29, 'BAN']]}], ['My bank account number is 26145156', {'entities': [[26, 34, 'BAN']]}], ['Bank Account Number: 99796457', {'entities': [[21, 29, 'BAN']]}], ['My bank account number is 99796457', {'entities': [[26, 34, 'BAN']]}], ['Account Number: 54041165', {'entities': [[16, 24, 'BAN']]}], ['Bank Account Number: 54041165', {'entities': [[21, 29, 'BAN']]}], ['My bank account number is 54041165', {'entities': [[26, 34, 'BAN']]}], ['Account Number: 25458467', {'entities': [[16, 24, 'BAN']]}], ['Bank Account Number: 25458467', {'entities': [[21, 29, 'BAN']]}], ['My bank account number is 25458467', {'entities': [[26, 34, 'BAN']]}], ['Account Number: 22224934', {'entities': [[16, 24, 'BAN']]}], ['Bank Account Number: 22224934', {'entities': [[21, 29, 'BAN']]}], ['My bank account number is 22224934', {'entities': [[26, 34, 'BAN']]}], ['Account Number: 26145156', {'entities': [[16, 24, 'BAN']]}], ['Bank Account Number: 26145156', {'entities': [[21, 29, 'BAN']]}], ['My bank account number is 26145156', {'entities': [[26, 34, 'BAN']]}], ['NI: WE234667Q', {'entities': [[4, 13, 'NI']]}], ['National Insurance Number: WE234667Q', {'entities': [[27, 36, 'NI']]}], ['This is my national insurance number WE234667Q', {'entities': [[37, 46, 'NI']]}], ['NI: QW133466P', {'entities': [[4, 13, 'NI']]}], ['National Insurance Number: QW133466P', {'entities': [[27, 36, 'NI']]}], ['This is my national insurance number QW133466P', {'entities': [[37, 46, 'NI']]}], ['NI: QU133466Y', {'entities': [[4, 13, 'NI']]}], ['National Insurance Number: QU133466Y', {'entities': [[27, 36, 'NI']]}], ['This is my national insurance number QU133466Y', {'entities': [[37, 46, 'NI']]}], ['NI: NZ368561C', {'entities': [[4, 13, 'NI']]}], ['National Insurance Number: NZ368561C', {'entities': [[27, 36, 'NI']]}], ['This is my national insurance number NZ368561C', {'entities': [[37, 46, 'NI']]}], ['NI: AB133466C', {'entities': [[4, 13, 'NI']]}], ['National Insurance Number: AB133466C', {'entities': [[27, 36, 'NI']]}], ['This is my national insurance number AB133466C', {'entities': [[37, 46, 'NI']]}], ['NI: BC234667D', {'entities': [[4, 13, 'NI']]}], ['National Insurance Number: BC234667D', {'entities': [[27, 36, 'NI']]}], ['This is my national insurance number BC234667D', {'entities': [[37, 46, 'NI']]}], ['NI: CD346678E', {'entities': [[4, 13, 'NI']]}], ['National Insurance Number: CD346678E', {'entities': [[27, 36, 'NI']]}], ['This is my national insurance number CD346678E', {'entities': [[37, 46, 'NI']]}], ['NI: DE466789F', {'entities': [[4, 13, 'NI']]}], ['National Insurance Number: DE466789F', {'entities': [[27, 36, 'NI']]}], ['This is my national insurance number DE466789F', {'entities': [[37, 46, 'NI']]}], ['NI: EF133466G', {'entities': [[4, 13, 'NI']]}], ['National Insurance Number: EF133466G', {'entities': [[27, 36, 'NI']]}], ['This is my national insurance number EF133466G', {'entities': [[37, 46, 'NI']]}], ['NI: FG234667H', {'entities': [[4, 13, 'NI']]}], ['National Insurance Number: FG234667H', {'entities': [[27, 36, 'NI']]}], ['This is my national insurance number FG234667H', {'entities': [[37, 46, 'NI']]}], ['NI: GH346678I', {'entities': [[4, 13, 'NI']]}], ['National Insurance Number: GH346678I', {'entities': [[27, 36, 'NI']]}], ['This is my national insurance number GH346678I', {'entities': [[37, 46, 'NI']]}], ['NI: HI466789J', {'entities': [[4, 13, 'NI']]}], ['National Insurance Number: HI466789J', {'entities': [[27, 36, 'NI']]}], ['This is my national insurance number HI466789J', {'entities': [[37, 46, 'NI']]}], ['NI: IJ133466K', {'entities': [[4, 13, 'NI']]}], ['National Insurance Number: IJ133466K', {'entities': [[27, 36, 'NI']]}], ['This is my national insurance number IJ133466K', {'entities': [[37, 46, 'NI']]}], ['NI: JK234667L', {'entities': [[4, 13, 'NI']]}], ['National Insurance Number: JK234667L', {'entities': [[27, 36, 'NI']]}], ['This is my national insurance number JK234667L', {'entities': [[37, 46, 'NI']]}], ['NI: KL346678M', {'entities': [[4, 13, 'NI']]}], ['National Insurance Number: KL346678M', {'entities': [[27, 36, 'NI']]}], ['This is my national insurance number KL346678M', {'entities': [[37, 46, 'NI']]}], ['NI: LM466789N', {'entities': [[4, 13, 'NI']]}], ['National Insurance Number: LM466789N', {'entities': [[27, 36, 'NI']]}], ['This is my national insurance number LM466789N', {'entities': [[37, 46, 'NI']]}], ['NI: MN133466O', {'entities': [[4, 13, 'NI']]}], ['National Insurance Number: MN133466O', {'entities': [[27, 36, 'NI']]}], ['This is my national insurance number MN133466O', {'entities': [[37, 46, 'NI']]}], ['NI: NO234667P', {'entities': [[4, 13, 'NI']]}], ['National Insurance Number: NO234667P', {'entities': [[27, 36, 'NI']]}], ['This is my national insurance number NO234667P', {'entities': [[37, 46, 'NI']]}], ['NI: OP346678Q', {'entities': [[4, 13, 'NI']]}], ['National Insurance Number: OP346678Q', {'entities': [[27, 36, 'NI']]}], ['This is my national insurance number OP346678Q', {'entities': [[37, 46, 'NI']]}], ['NI: PQ466789R', {'entities': [[4, 13, 'NI']]}], ['National Insurance Number: PQ466789R', {'entities': [[27, 36, 'NI']]}], ['This is my national insurance number PQ466789R', {'entities': [[37, 46, 'NI']]}], ['Sort Code: 40-50-60', {'entities': [[11, 19, 'Sort_Code']]}], ['Bank Sort Code Number: 40-50-60', {'entities': [[23, 31, 'Sort_Code']]}], ['My bank sort code number is 40-50-60', {'entities': [[28, 36, 'Sort_Code']]}], ['Sort Code: 71-82-93', {'entities': [[11, 19, 'Sort_Code']]}], ['Bank Sort Code Number: 71-82-93', {'entities': [[23, 31, 'Sort_Code']]}], ['My bank sort code number is 71-82-93', {'entities': [[28, 36, 'Sort_Code']]}], ['Sort Code: 32-43-54', {'entities': [[11, 19, 'Sort_Code']]}], ['Bank Sort Code Number: 32-43-54', {'entities': [[23, 31, 'Sort_Code']]}], ['My bank sort code number is 32-43-54', {'entities': [[28, 36, 'Sort_Code']]}], ['Sort Code: 65-76-87', {'entities': [[11, 19, 'Sort_Code']]}], ['Bank Sort Code Number: 65-76-87', {'entities': [[23, 31, 'Sort_Code']]}], ['My bank sort code number is 65-76-87', {'entities': [[28, 36, 'Sort_Code']]}], ['Sort Code: 83-92-14', {'entities': [[11, 19, 'Sort_Code']]}], ['Bank Sort Code Number: 83-92-14', {'entities': [[23, 31, 'Sort_Code']]}], ['My bank sort code number is 83-92-14', {'entities': [[28, 36, 'Sort_Code']]}], ['Sort Code: 94-63-25', {'entities': [[11, 19, 'Sort_Code']]}], ['Bank Sort Code Number: 94-63-25', {'entities': [[23, 31, 'Sort_Code']]}], ['My bank sort code number is 94-63-25', {'entities': [[28, 36, 'Sort_Code']]}], ['Sort Code: 88-77-66', {'entities': [[11, 19, 'Sort_Code']]}], ['Bank Sort Code Number: 88-77-66', {'entities': [[23, 31, 'Sort_Code']]}], ['My bank sort code number is 88-77-66', {'entities': [[28, 36, 'Sort_Code']]}], ['Sort Code: 27-38-49', {'entities': [[11, 19, 'Sort_Code']]}], ['Bank Sort Code Number: 27-38-49', {'entities': [[23, 31, 'Sort_Code']]}], ['My bank sort code number is 27-38-49', {'entities': [[28, 36, 'Sort_Code']]}], ['Sort Code: 14-25-36', {'entities': [[11, 19, 'Sort_Code']]}], ['Bank Sort Code Number: 14-25-36', {'entities': [[23, 31, 'Sort_Code']]}], ['My bank sort code number is 14-25-36', {'entities': [[28, 36, 'Sort_Code']]}], ['Sort Code: 31-62-93', {'entities': [[11, 19, 'Sort_Code']]}], ['Bank Sort Code Number: 31-62-93', {'entities': [[23, 31, 'Sort_Code']]}], ['My bank sort code number is 31-62-93', {'entities': [[28, 36, 'Sort_Code']]}], ['Sort Code: 19-28-37', {'entities': [[11, 19, 'Sort_Code']]}], ['Bank Sort Code Number: 19-28-37', {'entities': [[23, 31, 'Sort_Code']]}], ['My bank sort code number is 19-28-37', {'entities': [[28, 36, 'Sort_Code']]}], ['Sort Code: 34-56-78', {'entities': [[11, 19, 'Sort_Code']]}], ['Bank Sort Code Number: 34-56-78', {'entities': [[23, 31, 'Sort_Code']]}], ['My bank sort code number is 34-56-78', {'entities': [[28, 36, 'Sort_Code']]}], ['Sort Code: 23-45-67', {'entities': [[11, 19, 'Sort_Code']]}], ['Bank Sort Code Number: 23-45-67', {'entities': [[23, 31, 'Sort_Code']]}], ['My bank sort code number is 23-45-67', {'entities': [[28, 36, 'Sort_Code']]}], ['Sort Code: 77-88-99', {'entities': [[11, 19, 'Sort_Code']]}], ['Bank Sort Code Number: 77-88-99', {'entities': [[23, 31, 'Sort_Code']]}], ['My bank sort code number is 77-88-99', {'entities': [[28, 36, 'Sort_Code']]}], ['Sort Code: 55-44-66', {'entities': [[11, 19, 'Sort_Code']]}], ['Bank Sort Code Number: 55-44-66', {'entities': [[23, 31, 'Sort_Code']]}], ['My bank sort code number is 55-44-66', {'entities': [[28, 36, 'Sort_Code']]}], ['Sort Code: 11-22-33', {'entities': [[11, 19, 'Sort_Code']]}], ['Bank Sort Code Number: 11-22-33', {'entities': [[23, 31, 'Sort_Code']]}], ['My bank sort code number is 11-22-33', {'entities': [[28, 36, 'Sort_Code']]}], ['Sort Code: 50-60-70', {'entities': [[11, 19, 'Sort_Code']]}], ['Bank Sort Code Number: 50-60-70', {'entities': [[23, 31, 'Sort_Code']]}], ['My bank sort code number is 50-60-70', {'entities': [[28, 36, 'Sort_Code']]}], ['Sort Code: 45-67-89', {'entities': [[11, 19, 'Sort_Code']]}], ['Bank Sort Code Number: 45-67-89', {'entities': [[23, 31, 'Sort_Code']]}], ['My bank sort code number is 45-67-89', {'entities': [[28, 36, 'Sort_Code']]}], ['Sort Code: 20-31-40', {'entities': [[11, 19, 'Sort_Code']]}], ['Bank Sort Code Number: 20-31-40', {'entities': [[23, 31, 'Sort_Code']]}], ['My bank sort code number is 20-31-40', {'entities': [[28, 36, 'Sort_Code']]}], ['Sort Code: 12-34-56', {'entities': [[11, 19, 'Sort_Code']]}], ['Bank Sort Code Number: 12-34-56', {'entities': [[23, 31, 'Sort_Code']]}], ['My bank sort code number is 12-34-56', {'entities': [[28, 36, 'Sort_Code']]}], ['Organisation: Graham Construction', {'entities': [[14, 33, 'ORG']]}], ['Organisation Name: Graham Construction', {'entities': [[19, 38, 'ORG']]}], ['The name of my organisation is Graham Construction', {'entities': [[31, 50, 'ORG']]}], ['Organisation: Woodvale Construction Company Ltd', {'entities': [[14, 47, 'ORG']]}], ['Organisation Name: Woodvale Construction Company Ltd', {'entities': [[19, 52, 'ORG']]}], ['The name of my organisation is Woodvale Construction Company Ltd', {'entities': [[31, 64, 'ORG']]}], ['Organisation: Braidwater', {'entities': [[14, 24, 'ORG']]}], ['Organisation Name: Braidwater', {'entities': [[19, 29, 'ORG']]}], ['The name of my organisation is Braidwater', {'entities': [[31, 41, 'ORG']]}], ['Organisation: Northstone [NI] Ltd', {'entities': [[14, 33, 'ORG']]}], ['Organisation Name: Northstone [NI] Ltd', {'entities': [[19, 38, 'ORG']]}], ['The name of my organisation is Northstone [NI] Ltd', {'entities': [[31, 50, 'ORG']]}], ['Organisation: McAleer & Teague Ltd', {'entities': [[14, 34, 'ORG']]}], ['Organisation Name: McAleer & Teague Ltd', {'entities': [[19, 39, 'ORG']]}], ['The name of my organisation is McAleer & Teague Ltd', {'entities': [[31, 51, 'ORG']]}], ['Organisation: Turkington Construction Ltd', {'entities': [[14, 41, 'ORG']]}], ['Organisation Name: Turkington Construction Ltd', {'entities': [[19, 46, 'ORG']]}], ['The name of my organisation is Turkington Construction Ltd', {'entities': [[31, 58, 'ORG']]}], ['Organisation: Henry Brothers Ltd', {'entities': [[14, 32, 'ORG']]}], ['Organisation Name: Henry Brothers Ltd', {'entities': [[19, 37, 'ORG']]}], ['The name of my organisation is Henry Brothers Ltd', {'entities': [[31, 49, 'ORG']]}], ['Organisation: Gilbert-Ash', {'entities': [[14, 25, 'ORG']]}], ['Organisation Name: Gilbert-Ash', {'entities': [[19, 30, 'ORG']]}], ['The name of my organisation is Gilbert-Ash', {'entities': [[31, 42, 'ORG']]}], ['Organisation: McLaughlin & Harvey', {'entities': [[14, 33, 'ORG']]}], ['Organisation Name: McLaughlin & Harvey', {'entities': [[19, 38, 'ORG']]}], ['The name of my organisation is McLaughlin & Harvey', {'entities': [[31, 50, 'ORG']]}], [\"Organisation: O'Hare & McGovern Ltd\", {'entities': [[14, 35, 'ORG']]}], [\"Organisation Name: O'Hare & McGovern Ltd\", {'entities': [[19, 40, 'ORG']]}], [\"The name of my organisation is O'Hare & McGovern Ltd\", {'entities': [[31, 52, 'ORG']]}], ['Organisation: Spinfotec', {'entities': [[14, 23, 'ORG']]}], ['Organisation Name: Spinfotec', {'entities': [[19, 28, 'ORG']]}], ['The name of my organisation is Spinfotec', {'entities': [[31, 40, 'ORG']]}], ['Organisation: Farrans Construction', {'entities': [[14, 34, 'ORG']]}], ['Organisation Name: Farrans Construction', {'entities': [[19, 39, 'ORG']]}], ['The name of my organisation is Farrans Construction', {'entities': [[31, 51, 'ORG']]}], ['Organisation: Windsor Hardware', {'entities': [[14, 30, 'ORG']]}], ['Organisation Name: Windsor Hardware', {'entities': [[19, 35, 'ORG']]}], ['The name of my organisation is Windsor Hardware', {'entities': [[31, 47, 'ORG']]}], ['Organisation: Craigmore Industrial & Engineering Supplies', {'entities': [[14, 57, 'ORG']]}], ['Organisation Name: Craigmore Industrial & Engineering Supplies', {'entities': [[19, 62, 'ORG']]}], ['The name of my organisation is Craigmore Industrial & Engineering Supplies', {'entities': [[31, 74, 'ORG']]}], ['Organisation: Castlerock Hardware', {'entities': [[14, 33, 'ORG']]}], ['Organisation Name: Castlerock Hardware', {'entities': [[19, 38, 'ORG']]}], ['The name of my organisation is Castlerock Hardware', {'entities': [[31, 50, 'ORG']]}], ['Organisation: Park Electrical Services', {'entities': [[14, 38, 'ORG']]}], ['Organisation Name: Park Electrical Services', {'entities': [[19, 43, 'ORG']]}], ['The name of my organisation is Park Electrical Services', {'entities': [[31, 55, 'ORG']]}], ['Organisation: Belfast Ironmongery', {'entities': [[14, 33, 'ORG']]}], ['Organisation Name: Belfast Ironmongery', {'entities': [[19, 38, 'ORG']]}], ['The name of my organisation is Belfast Ironmongery', {'entities': [[31, 50, 'ORG']]}], ['Organisation: David Morrow & Son', {'entities': [[14, 32, 'ORG']]}], ['Organisation Name: David Morrow & Son', {'entities': [[19, 37, 'ORG']]}], ['The name of my organisation is David Morrow & Son', {'entities': [[31, 49, 'ORG']]}], ['Organisation: James Hargan & Son', {'entities': [[14, 32, 'ORG']]}], ['Organisation Name: James Hargan & Son', {'entities': [[19, 37, 'ORG']]}], ['The name of my organisation is James Hargan & Son', {'entities': [[31, 49, 'ORG']]}], ['Organisation: Murdock Builders Merchants', {'entities': [[14, 40, 'ORG']]}], ['Organisation Name: Murdock Builders Merchants', {'entities': [[19, 45, 'ORG']]}], ['The name of my organisation is Murdock Builders Merchants', {'entities': [[31, 57, 'ORG']]}], ['DOB: 18/04/01', {'entities': [[5, 13, 'Date']]}], ['Date of Birth: 18/04/01', {'entities': [[15, 23, 'Date']]}], ['My date of birth is 18/04/01', {'entities': [[20, 28, 'Date']]}], ['DOB: 02/11/74', {'entities': [[5, 13, 'Date']]}], ['Date of Birth: 02/11/74', {'entities': [[15, 23, 'Date']]}], ['My date of birth is 02/11/74', {'entities': [[20, 28, 'Date']]}], ['DOB: 24/06/01', {'entities': [[5, 13, 'Date']]}], ['Date of Birth: 24/06/01', {'entities': [[15, 23, 'Date']]}], ['My date of birth is 24/06/01', {'entities': [[20, 28, 'Date']]}], ['DOB: 24/03/81', {'entities': [[5, 13, 'Date']]}], ['Date of Birth: 24/03/81', {'entities': [[15, 23, 'Date']]}], ['My date of birth is 24/03/81', {'entities': [[20, 28, 'Date']]}], ['DOB: 28/11/98', {'entities': [[5, 13, 'Date']]}], ['Date of Birth: 28/11/98', {'entities': [[15, 23, 'Date']]}], ['My date of birth is 28/11/98', {'entities': [[20, 28, 'Date']]}], ['DOB: 04/05/86', {'entities': [[5, 13, 'Date']]}], ['Date of Birth: 04/05/86', {'entities': [[15, 23, 'Date']]}], ['My date of birth is 04/05/86', {'entities': [[20, 28, 'Date']]}], ['DOB: 09/04/99', {'entities': [[5, 13, 'Date']]}], ['Date of Birth: 09/04/99', {'entities': [[15, 23, 'Date']]}], ['My date of birth is 09/04/99', {'entities': [[20, 28, 'Date']]}], ['DOB: 25/08/00', {'entities': [[5, 13, 'Date']]}], ['Date of Birth: 25/08/00', {'entities': [[15, 23, 'Date']]}], ['My date of birth is 25/08/00', {'entities': [[20, 28, 'Date']]}], ['DOB: 28/07/02', {'entities': [[5, 13, 'Date']]}], ['Date of Birth: 28/07/02', {'entities': [[15, 23, 'Date']]}], ['My date of birth is 28/07/02', {'entities': [[20, 28, 'Date']]}], ['DOB: 09/06/98', {'entities': [[5, 13, 'Date']]}], ['Date of Birth: 09/06/98', {'entities': [[15, 23, 'Date']]}], ['My date of birth is 09/06/98', {'entities': [[20, 28, 'Date']]}], ['DOB: 03/01/74', {'entities': [[5, 13, 'Date']]}], ['Date of Birth: 03/01/74', {'entities': [[15, 23, 'Date']]}], ['My date of birth is 03/01/74', {'entities': [[20, 28, 'Date']]}], ['DOB: 01/11/90', {'entities': [[5, 13, 'Date']]}], ['Date of Birth: 01/11/90', {'entities': [[15, 23, 'Date']]}], ['My date of birth is 01/11/90', {'entities': [[20, 28, 'Date']]}], ['DOB: 24/05/95', {'entities': [[5, 13, 'Date']]}], ['Date of Birth: 24/05/95', {'entities': [[15, 23, 'Date']]}], ['My date of birth is 24/05/95', {'entities': [[20, 28, 'Date']]}], ['DOB: 29/03/94', {'entities': [[5, 13, 'Date']]}], ['Date of Birth: 29/03/94', {'entities': [[15, 23, 'Date']]}], ['My date of birth is 29/03/94', {'entities': [[20, 28, 'Date']]}], ['DOB: 15/01/91', {'entities': [[5, 13, 'Date']]}], ['Date of Birth: 15/01/91', {'entities': [[15, 23, 'Date']]}], ['My date of birth is 15/01/91', {'entities': [[20, 28, 'Date']]}], ['DOB: 23/07/95', {'entities': [[5, 13, 'Date']]}], ['Date of Birth: 23/07/95', {'entities': [[15, 23, 'Date']]}], ['My date of birth is 23/07/95', {'entities': [[20, 28, 'Date']]}], ['DOB: 20/06/83', {'entities': [[5, 13, 'Date']]}], ['Date of Birth: 20/06/83', {'entities': [[15, 23, 'Date']]}], ['My date of birth is 20/06/83', {'entities': [[20, 28, 'Date']]}], ['DOB: 24/04/88', {'entities': [[5, 13, 'Date']]}], ['Date of Birth: 24/04/88', {'entities': [[15, 23, 'Date']]}], ['My date of birth is 24/04/88', {'entities': [[20, 28, 'Date']]}], ['DOB: 18/01/96', {'entities': [[5, 13, 'Date']]}], ['Date of Birth: 18/01/96', {'entities': [[15, 23, 'Date']]}], ['My date of birth is 18/01/96', {'entities': [[20, 28, 'Date']]}], ['DOB: 23/03/95', {'entities': [[5, 13, 'Date']]}], ['Date of Birth: 23/03/95', {'entities': [[15, 23, 'Date']]}], ['My date of birth is 23/03/95', {'entities': [[20, 28, 'Date']]}], ['DOB: 18/04/2001', {'entities': [[5, 15, 'Date']]}], ['Date of Birth: 18/04/2001', {'entities': [[15, 25, 'Date']]}], ['My date of birth is 18/04/2001', {'entities': [[20, 30, 'Date']]}], ['DOB: 02/11/1974', {'entities': [[5, 15, 'Date']]}], ['Date of Birth: 02/11/1974', {'entities': [[15, 25, 'Date']]}], ['My date of birth is 02/11/1974', {'entities': [[20, 30, 'Date']]}], ['DOB: 25/06/2001', {'entities': [[5, 15, 'Date']]}], ['Date of Birth: 25/06/2001', {'entities': [[15, 25, 'Date']]}], ['My date of birth is 25/06/2001', {'entities': [[20, 30, 'Date']]}], ['DOB: 25/03/1981', {'entities': [[5, 15, 'Date']]}], ['Date of Birth: 25/03/1981', {'entities': [[15, 25, 'Date']]}], ['My date of birth is 25/03/1981', {'entities': [[20, 30, 'Date']]}], ['DOB: 28/11/1998', {'entities': [[5, 15, 'Date']]}], ['Date of Birth: 28/11/1998', {'entities': [[15, 25, 'Date']]}], ['My date of birth is 28/11/1998', {'entities': [[20, 30, 'Date']]}], ['DOB: 04/05/1986', {'entities': [[5, 15, 'Date']]}], ['Date of Birth: 04/05/1986', {'entities': [[15, 25, 'Date']]}], ['My date of birth is 04/05/1986', {'entities': [[20, 30, 'Date']]}], ['DOB: 09/04/1999', {'entities': [[5, 15, 'Date']]}], ['Date of Birth: 09/04/1999', {'entities': [[15, 25, 'Date']]}], ['My date of birth is 09/04/1999', {'entities': [[20, 30, 'Date']]}], ['DOB: 25/08/2000', {'entities': [[5, 15, 'Date']]}], ['Date of Birth: 25/08/2000', {'entities': [[15, 25, 'Date']]}], ['My date of birth is 25/08/2000', {'entities': [[20, 30, 'Date']]}], ['DOB: 27/07/2002', {'entities': [[5, 15, 'Date']]}], ['Date of Birth: 27/07/2002', {'entities': [[15, 25, 'Date']]}], ['My date of birth is 27/07/2002', {'entities': [[20, 30, 'Date']]}], ['DOB: 09/06/1998', {'entities': [[5, 15, 'Date']]}], ['Date of Birth: 09/06/1998', {'entities': [[15, 25, 'Date']]}], ['My date of birth is 09/06/1998', {'entities': [[20, 30, 'Date']]}], ['DOB: 03/01/1974', {'entities': [[5, 15, 'Date']]}], ['Date of Birth: 03/01/1974', {'entities': [[15, 25, 'Date']]}], ['My date of birth is 03/01/1974', {'entities': [[20, 30, 'Date']]}], ['DOB: 01/11/1990', {'entities': [[5, 15, 'Date']]}], ['Date of Birth: 01/11/1990', {'entities': [[15, 25, 'Date']]}], ['My date of birth is 01/11/1990', {'entities': [[20, 30, 'Date']]}], ['DOB: 25/05/1995', {'entities': [[5, 15, 'Date']]}], ['Date of Birth: 25/05/1995', {'entities': [[15, 25, 'Date']]}], ['My date of birth is 25/05/1995', {'entities': [[20, 30, 'Date']]}], ['DOB: 30/03/1994', {'entities': [[5, 15, 'Date']]}], ['Date of Birth: 30/03/1994', {'entities': [[15, 25, 'Date']]}], ['My date of birth is 30/03/1994', {'entities': [[20, 30, 'Date']]}], ['DOB: 15/01/1991', {'entities': [[5, 15, 'Date']]}], ['Date of Birth: 15/01/1991', {'entities': [[15, 25, 'Date']]}], ['My date of birth is 15/01/1991', {'entities': [[20, 30, 'Date']]}], ['DOB: 22/07/1995', {'entities': [[5, 15, 'Date']]}], ['Date of Birth: 22/07/1995', {'entities': [[15, 25, 'Date']]}], ['My date of birth is 22/07/1995', {'entities': [[20, 30, 'Date']]}], ['DOB: 20/06/1983', {'entities': [[5, 15, 'Date']]}], ['Date of Birth: 20/06/1983', {'entities': [[15, 25, 'Date']]}], ['My date of birth is 20/06/1983', {'entities': [[20, 30, 'Date']]}], ['DOB: 25/04/1988', {'entities': [[5, 15, 'Date']]}], ['Date of Birth: 25/04/1988', {'entities': [[15, 25, 'Date']]}], ['My date of birth is 25/04/1988', {'entities': [[20, 30, 'Date']]}], ['DOB: 18/01/1996', {'entities': [[5, 15, 'Date']]}], ['Date of Birth: 18/01/1996', {'entities': [[15, 25, 'Date']]}], ['My date of birth is 18/01/1996', {'entities': [[20, 30, 'Date']]}], ['DOB: 23/03/1995', {'entities': [[5, 15, 'Date']]}], ['Date of Birth: 23/03/1995', {'entities': [[15, 25, 'Date']]}], ['My date of birth is 23/03/1995', {'entities': [[20, 30, 'Date']]}], ['Date: 18 January 2002', {'entities': [[6, 21, 'Date']]}], ['Date: 20 February 2003', {'entities': [[6, 22, 'Date']]}], ['Date: 23 March 2004', {'entities': [[6, 19, 'Date']]}], ['Date: 15 April 2005', {'entities': [[6, 19, 'Date']]}], ['Date: 19 May 2006', {'entities': [[6, 17, 'Date']]}], ['Date: 10 June 2007', {'entities': [[6, 18, 'Date']]}], ['Date: 30 July 2008', {'entities': [[6, 18, 'Date']]}], ['Date: 24 August 2009', {'entities': [[6, 20, 'Date']]}], ['Date: 03 September 2010', {'entities': [[6, 23, 'Date']]}], ['Date: 06 October 2011', {'entities': [[6, 21, 'Date']]}], ['Date: 09 November 2012', {'entities': [[6, 22, 'Date']]}], ['Date: 14 December 2013', {'entities': [[6, 22, 'Date']]}], ['Date: 18 Jan 2002', {'entities': [[6, 17, 'Date']]}], ['Date: 20 Feb 2003', {'entities': [[6, 17, 'Date']]}], ['Date: 23 Mar 2004', {'entities': [[6, 17, 'Date']]}], ['Date: 15 Apr 2005', {'entities': [[6, 17, 'Date']]}], ['Date: 19 May 2006', {'entities': [[6, 17, 'Date']]}], ['Date: 10 Jun 2007', {'entities': [[6, 17, 'Date']]}], ['Date: 30 Jul 2008', {'entities': [[6, 17, 'Date']]}], ['Date: 24 Aug 2009', {'entities': [[6, 17, 'Date']]}], ['Date: 03 Sept 2010', {'entities': [[6, 18, 'Date']]}], ['Date: 06 Oct 2011', {'entities': [[6, 17, 'Date']]}], ['Date: 09 Nov 2012', {'entities': [[6, 17, 'Date']]}], ['Date: 14 Dec 2013', {'entities': [[6, 17, 'Date']]}], ['Invoice Number: 22/2024', {'entities': [[16, 23, 'Invoice_Number']]}], ['Invoice Number is 48/2001', {'entities': [[18, 25, 'Invoice_Number']]}], ['Invoice Number: 02/2004', {'entities': [[16, 23, 'Invoice_Number']]}], ['Invoice Number is 07/2012', {'entities': [[18, 25, 'Invoice_Number']]}], ['Invoice Number: 36/2015', {'entities': [[16, 23, 'Invoice_Number']]}], ['Invoice Number is 67/1998', {'entities': [[18, 25, 'Invoice_Number']]}], ['Invoice Number: 90/1999', {'entities': [[16, 23, 'Invoice_Number']]}], ['Invoice Number is 05/2023', {'entities': [[18, 25, 'Invoice_Number']]}], ['Invoice Number: 59/2021', {'entities': [[16, 23, 'Invoice_Number']]}], ['Invoice Number is 39/2006', {'entities': [[18, 25, 'Invoice_Number']]}], ['Invoice Number: 23/1967', {'entities': [[16, 23, 'Invoice_Number']]}], ['Invoice Number is 03/1982', {'entities': [[18, 25, 'Invoice_Number']]}], ['Invoice Number: 47/2001', {'entities': [[16, 23, 'Invoice_Number']]}], ['Invoice Number is 35/2009', {'entities': [[18, 25, 'Invoice_Number']]}], ['Invoice Number: 22/20', {'entities': [[16, 21, 'Invoice_Number']]}], ['Invoice Number is 48/21', {'entities': [[18, 23, 'Invoice_Number']]}], ['Invoice Number: 02/24', {'entities': [[16, 21, 'Invoice_Number']]}], ['Invoice Number is 07/22', {'entities': [[18, 23, 'Invoice_Number']]}], ['Invoice Number: 36/25', {'entities': [[16, 21, 'Invoice_Number']]}], ['Invoice Number is 67/98', {'entities': [[18, 23, 'Invoice_Number']]}], ['Invoice Number: 90/99', {'entities': [[16, 21, 'Invoice_Number']]}], ['Invoice Number is 05/23', {'entities': [[18, 23, 'Invoice_Number']]}], ['Invoice Number: 59/21', {'entities': [[16, 21, 'Invoice_Number']]}], ['Invoice Number is 39/26', {'entities': [[18, 23, 'Invoice_Number']]}], ['Invoice Number: 23/67', {'entities': [[16, 21, 'Invoice_Number']]}], ['Invoice Number is 03/82', {'entities': [[18, 23, 'Invoice_Number']]}], ['Invoice Number: 47/21', {'entities': [[16, 21, 'Invoice_Number']]}], ['Invoice Number is 35/25', {'entities': [[18, 23, 'Invoice_Number']]}], ['Phone Number is 07776521081', {'entities': [[16, 27, 'Phone_Number']]}], ['Phone Number: 07776521081', {'entities': [[14, 25, 'Phone_Number']]}], ['Phone Number is +447776521081', {'entities': [[16, 29, 'Phone_Number']]}], ['Phone Number: +44 7776521081', {'entities': [[14, 28, 'Phone_Number']]}], ['Phone Number is 07123456789', {'entities': [[16, 27, 'Phone_Number']]}], ['Phone Number: 07123456789', {'entities': [[14, 25, 'Phone_Number']]}], ['Phone Number is +447012345678', {'entities': [[16, 29, 'Phone_Number']]}], ['Phone Number: +44 7012345678', {'entities': [[14, 28, 'Phone_Number']]}], ['Phone Number is 07894561230', {'entities': [[16, 27, 'Phone_Number']]}], ['Phone Number: 07894561230', {'entities': [[14, 25, 'Phone_Number']]}], ['Phone Number is +447894561230', {'entities': [[16, 29, 'Phone_Number']]}], ['Phone Number: +44 7894561230', {'entities': [[14, 28, 'Phone_Number']]}], ['Phone Number is 07561234567', {'entities': [[16, 27, 'Phone_Number']]}], ['Phone Number: 07561234567', {'entities': [[14, 25, 'Phone_Number']]}], ['Phone Number is +447561234567', {'entities': [[16, 29, 'Phone_Number']]}], ['Phone Number: +44 7561234567', {'entities': [[14, 28, 'Phone_Number']]}], ['Phone Number is 07987654321', {'entities': [[16, 27, 'Phone_Number']]}], ['Phone Number: 07987654321', {'entities': [[14, 25, 'Phone_Number']]}], ['Phone Number is +447987654321', {'entities': [[16, 29, 'Phone_Number']]}], ['Phone Number: +44 7987654321', {'entities': [[14, 28, 'Phone_Number']]}], ['Phone Number is 07457896521', {'entities': [[16, 27, 'Phone_Number']]}], ['Phone Number: 07457896521', {'entities': [[14, 25, 'Phone_Number']]}], ['Phone Number is +447457896521', {'entities': [[16, 29, 'Phone_Number']]}], ['Phone Number: +44 7457896521', {'entities': [[14, 28, 'Phone_Number']]}], ['I bought a pen for £20.', {'entities': [[19, 22, 'Money']]}], ['The concert ticket cost me £50.', {'entities': [[27, 31, 'Money']]}], ['She paid me back £10 for the lunch.', {'entities': [[17, 20, 'Money']]}], ['The new phone costs £500.', {'entities': [[20, 25, 'Money']]}], ['I spent £30 on groceries yesterday.', {'entities': [[8, 11, 'Money']]}], ['The repair bill came to £100.', {'entities': [[24, 29, 'Money']]}], ['He gave me £5 as a tip.', {'entities': [[11, 13, 'Money']]}], ['She won £200 in the lottery.', {'entities': [[8, 12, 'Money']]}], ['The hotel room was £80 per night.', {'entities': [[19, 22, 'Money']]}], ['I received £15 for mowing the lawn.', {'entities': [[11, 14, 'Money']]}], ['The concert tickets were £75 each.', {'entities': [[25, 28, 'Money']]}], ['He borrowed £50 from me.', {'entities': [[12, 15, 'Money']]}], ['The meal at the restaurant cost £40.', {'entities': [[32, 36, 'Money']]}], ['I got a discount and paid only £25.', {'entities': [[31, 35, 'Money']]}], ['The laptop was on sale for £600.', {'entities': [[27, 32, 'Money']]}], ['She gave me £10 for the movie ticket.', {'entities': [[12, 15, 'Money']]}], ['The weekly rent is £200.', {'entities': [[19, 24, 'Money']]}], ['The monthly salary is £3000.', {'entities': [[22, 28, 'Money']]}], ['I bought a shirt for £40.00.', {'entities': [[21, 28, 'Money']]}], ['She paid me back £20.89 for the dinner.', {'entities': [[17, 23, 'Money']]}], ['The new shoes cost £40.00.', {'entities': [[19, 26, 'Money']]}], ['The repair bill came to £20.89.', {'entities': [[24, 31, 'Money']]}], ['I spent £40.00 on groceries yesterday.', {'entities': [[8, 14, 'Money']]}], ['The concert ticket cost £20.89.', {'entities': [[24, 31, 'Money']]}], ['She gave me a gift voucher for £40.00.', {'entities': [[31, 38, 'Money']]}], ['The hotel room was £20.89 per night.', {'entities': [[19, 25, 'Money']]}], ['I received £40.00 for mowing the lawn.', {'entities': [[11, 17, 'Money']]}], ['The new phone costs £20.89.', {'entities': [[20, 27, 'Money']]}]]\n",
      "682\n"
     ]
    }
   ],
   "source": [
    "import json\n",
    "\n",
    "# Read data from the JSON file as text, specifying the encoding\n",
    "with open('TrainingDataSet.json', 'r', encoding='utf-8') as file:\n",
    "    json_text = file.read()\n",
    "\n",
    "# Parse the JSON text\n",
    "data = json.loads(json_text)\n",
    "\n",
    "# Extract the 'annotations' from the JSON data\n",
    "annotations = data['annotation']\n",
    "\n",
    "# Define TRAIN_DATA as an empty list\n",
    "TRAIN_DATA = []\n",
    "\n",
    "# Iterate over each annotation and append it to TRAIN_DATA\n",
    "for annotation in annotations:\n",
    "    TRAIN_DATA.append(annotation)\n",
    "\n",
    "# Print TRAIN_DATA to verify\n",
    "print(TRAIN_DATA)\n",
    "print(len(TRAIN_DATA))\n"
   ]
  },
  {
   "cell_type": "code",
   "execution_count": 17,
   "metadata": {},
   "outputs": [],
   "source": [
    "import os\n",
    "from sklearn.model_selection import train_test_split\n",
    "import numpy as np\n",
    "from tqdm import tqdm\n",
    "import spacy\n",
    "from spacy.tokens import DocBin\n",
    "from sklearn.metrics import accuracy_score, precision_score, recall_score, f1_score, confusion_matrix\n"
   ]
  },
  {
   "cell_type": "code",
   "execution_count": 4,
   "metadata": {},
   "outputs": [],
   "source": [
    "# Extracting text and annotations separately\n",
    "texts = [text for text, _ in TRAIN_DATA]\n",
    "annotations = [annot for _, annot in TRAIN_DATA]"
   ]
  },
  {
   "cell_type": "code",
   "execution_count": 5,
   "metadata": {},
   "outputs": [
    {
     "name": "stdout",
     "output_type": "stream",
     "text": [
      "477\n",
      "205\n"
     ]
    }
   ],
   "source": [
    "# Splitting the data into training and testing sets\n",
    "train_texts, test_texts, train_annotations, test_annotations = train_test_split(texts, annotations, test_size=0.3, random_state=42)\n",
    "print(len(train_texts))\n",
    "print(len(test_texts))"
   ]
  },
  {
   "cell_type": "code",
   "execution_count": 6,
   "metadata": {},
   "outputs": [],
   "source": [
    "# Combining the text and annotations into training and testing data\n",
    "train_data = list(zip(train_texts, train_annotations))\n",
    "test_data = list(zip(test_texts, test_annotations))"
   ]
  },
  {
   "cell_type": "code",
   "execution_count": 10,
   "metadata": {},
   "outputs": [],
   "source": [
    "nlp = spacy.blank(\"en\")"
   ]
  },
  {
   "cell_type": "code",
   "execution_count": 11,
   "metadata": {},
   "outputs": [],
   "source": [
    "# Creating a DocBin object for training data\n",
    "train_doc_bin = DocBin()\n",
    "for text, annot in train_data:\n",
    "    doc = nlp.make_doc(text)\n",
    "    entities = []\n",
    "    for start, end, label in annot.get(\"entities\", []):\n",
    "        span = doc.char_span(start, end, label=label)\n",
    "        if span is None:\n",
    "            continue\n",
    "        entities.append(span)\n",
    "    doc.ents = entities\n",
    "    train_doc_bin.add(doc)"
   ]
  },
  {
   "cell_type": "code",
   "execution_count": 12,
   "metadata": {},
   "outputs": [],
   "source": [
    "# Creating a DocBin object for testing data\n",
    "test_doc_bin = DocBin()\n",
    "for text, annot in test_data:\n",
    "    doc = nlp.make_doc(text)\n",
    "    entities = []\n",
    "    for start, end, label in annot.get(\"entities\", []):\n",
    "        span = doc.char_span(start, end, label=label)\n",
    "        if span is None:\n",
    "            continue\n",
    "        entities.append(span)\n",
    "    doc.ents = entities\n",
    "    test_doc_bin.add(doc)"
   ]
  },
  {
   "cell_type": "code",
   "execution_count": 13,
   "metadata": {},
   "outputs": [],
   "source": [
    "# Saving the DocBin objects to disk\n",
    "train_doc_bin.to_disk(\"./train.spacy\")\n",
    "test_doc_bin.to_disk(\"./test.spacy\")"
   ]
  },
  {
   "cell_type": "code",
   "execution_count": 14,
   "metadata": {},
   "outputs": [],
   "source": [
    "# Loading the trained model\n",
    "nlp_trained = spacy.load(\"./output/model-best\")"
   ]
  },
  {
   "cell_type": "code",
   "execution_count": 25,
   "metadata": {},
   "outputs": [],
   "source": [
    "def evaluate_model(nlp, test_data):\n",
    "    # Initialize lists to store true and predicted labels\n",
    "    true_labels = []\n",
    "    pred_labels = []\n",
    "\n",
    "    # Initialize variables to track true positives, false positives, and false negatives\n",
    "    true_positives = 0\n",
    "    false_positives = 0\n",
    "    false_negatives = 0\n",
    "    total_tokens = 0\n",
    "\n",
    "    # Iterate over the test data\n",
    "    for text, annot in test_data:\n",
    "        # Process the text with the trained model\n",
    "        doc = nlp(text)\n",
    "        # Extract the true labels\n",
    "        true_entities = set((start, end, label) for start, end, label in annot.get(\"entities\", []))\n",
    "        # Extract the predicted labels\n",
    "        pred_entities = set((ent.start_char, ent.end_char, ent.label_) for ent in doc.ents)\n",
    "        # Calculate true positives\n",
    "        true_positives += len(true_entities.intersection(pred_entities)) #True positives are entities that are correctly identified by the model.\n",
    "        # Calculate false positives\n",
    "        false_positives += len(pred_entities - true_entities) #False positives are entities that are identified by the model but are not present in the true labels.\n",
    "        # Calculate false negatives\n",
    "        false_negatives += len(true_entities - pred_entities) #False negatives are entities that are present in the true labels but are not identified by the model.\n",
    "        \n",
    "        # Count total tokens in the text\n",
    "        total_tokens += len(doc)\n",
    "\n",
    "        # Add true and predicted labels to the respective lists\n",
    "        true_labels.extend(true_entities)\n",
    "        pred_labels.extend(pred_entities)\n",
    "\n",
    "    # Calculate precision, recall, and F1 score\n",
    "    precision = true_positives / (true_positives + false_positives + 1e-9)  # Adding a small value to avoid division by zero\n",
    "    recall = true_positives / (true_positives + false_negatives + 1e-9)  # Adding a small value to avoid division by zero\n",
    "    f1 = 2 * (precision * recall) / (precision + recall + 1e-9)  # Adding a small value to avoid division by zero\n",
    "\n",
    "    # Calculate accuracy\n",
    "    accuracy = (true_positives + total_tokens - len(true_labels)) / total_tokens\n",
    "\n",
    "    # Generate confusion matrix\n",
    "    confusion_mat = [[true_positives, false_negatives], [false_positives, None]]\n",
    "\n",
    "    return accuracy, precision, recall, f1, confusion_mat\n"
   ]
  },
  {
   "cell_type": "code",
   "execution_count": 26,
   "metadata": {},
   "outputs": [],
   "source": [
    "# Evaluate the model on the testing data\n",
    "accuracy, precision, recall, f1, confusion_mat = evaluate_model(nlp_trained, test_data)"
   ]
  },
  {
   "cell_type": "code",
   "execution_count": 27,
   "metadata": {},
   "outputs": [
    {
     "name": "stdout",
     "output_type": "stream",
     "text": [
      "Accuracy: 0.987012987012987\n",
      "Precision: 0.9796954314671082\n",
      "Recall: 0.9234449760721367\n",
      "F1 Score: 0.9507389157519109\n",
      "Confusion Matrix:\n",
      "[[193, 16], [4, None]]\n"
     ]
    }
   ],
   "source": [
    "# Print evaluation metrics\n",
    "print(\"Accuracy:\", accuracy)\n",
    "print(\"Precision:\", precision)\n",
    "print(\"Recall:\", recall)\n",
    "print(\"F1 Score:\", f1)\n",
    "print(\"Confusion Matrix:\")\n",
    "print(confusion_mat)"
   ]
  },
  {
   "cell_type": "code",
   "execution_count": 31,
   "metadata": {},
   "outputs": [],
   "source": [
    "import numpy as np\n",
    "import matplotlib.pyplot as plt\n",
    "import seaborn as sns"
   ]
  },
  {
   "cell_type": "code",
   "execution_count": null,
   "metadata": {},
   "outputs": [],
   "source": [
    "# Visualize evaluation metrics\n",
    "metrics = ['Accuracy', 'Precision', 'Recall', 'F1 Score']\n",
    "values = [accuracy, precision, recall, f1]\n"
   ]
  },
  {
   "cell_type": "code",
   "execution_count": 32,
   "metadata": {},
   "outputs": [
    {
     "data": {
      "image/png": "[encoded data removed]",
      "text/plain": [
       "<Figure size 1000x500 with 1 Axes>"
      ]
     },
     "metadata": {},
     "output_type": "display_data"
    }
   ],
   "source": [
    "# Visualize evaluation metrics with a line plot\n",
    "plt.figure(figsize=(10, 5))\n",
    "plt.plot(metrics, values, marker='o', linestyle='-', color='blue')\n",
    "plt.title('Evaluation Metrics')\n",
    "plt.xlabel('Metric')\n",
    "plt.ylabel('Value')\n",
    "plt.ylim(0, 1)  # Limit y-axis to range [0, 1]\n",
    "plt.grid(True)  # Add grid lines\n",
    "plt.show()"
   ]
  },
  {
   "cell_type": "code",
   "execution_count": 34,
   "metadata": {},
   "outputs": [
    {
     "data": {
      "image/png": "[encoded data removed]",
      "text/plain": [
       "<Figure size 640x480 with 2 Axes>"
      ]
     },
     "metadata": {},
     "output_type": "display_data"
    }
   ],
   "source": [
    "\n",
    "# Convert confusion matrix to numpy array with numeric values\n",
    "confusion_mat = np.array(confusion_mat, dtype=float)\n",
    "\n",
    "# Visualize confusion matrix\n",
    "labels = ['True Positives', 'False Negatives', 'False Positives']\n",
    "sns.heatmap(confusion_mat, annot=True, fmt='.0f', xticklabels=labels, yticklabels=labels, cmap='Blues')\n",
    "plt.title('Confusion Matrix')\n",
    "plt.xlabel('Predicted')\n",
    "plt.ylabel('True')\n",
    "plt.show()\n"
   ]
  },
  {
   "cell_type": "code",
   "execution_count": 37,
   "metadata": {},
   "outputs": [
    {
     "name": "stdout",
     "output_type": "stream",
     "text": [
      "Tax Invoice \n",
      " \n",
      "Invoice Number: 22/2001 \n",
      "Tax Code: 1456G \n",
      "Date: 17 April 2024 \n",
      " \n",
      "To: \n",
      "Siya Philip \n",
      "71 Meadowlands, Downpatrick, BT306HG \n",
      " \n",
      "Service Description: Consulting Services \n",
      " \n",
      "Amount Due: £500.00 \n",
      "Seller Account Number: 11581823 \n",
      "Sort Code: 40-50-60 \n",
      " \n",
      "Payment Due Date: 30 April 2024 \n",
      "Organisation: Creative Contructions Ltd \n",
      " \n",
      "National Insurance Number: AB123456C \n",
      "VAT Number: GB345 6789 01 \n",
      "\n",
      "\n",
      "\n"
     ]
    }
   ],
   "source": [
    "import fitz  # PyMuPDF\n",
    "\n",
    "def extract_text_from_pdf(pdf_path):\n",
    "    text = \"\"\n",
    "    with fitz.open(pdf_path) as doc:\n",
    "        for page in doc:\n",
    "            text += page.get_text()\n",
    "            text += \"\\n\\n\"  # Add two new lines after each page\n",
    "    return text\n",
    "\n",
    "# Define paths for Tax Invoice and Payslip PDF files\n",
    "tax_invoice_path = \"Test Files\\\\Tax Invoice.pdf\"\n",
    "pay_slip_path = \"Test Files\\\\PaySlip.pdf\"\n",
    "\n",
    "\n",
    "doc_type = input(\"Enter the document type (Tax Invoice/PaySlip): \").strip().title().upper()\n",
    "\n",
    "\n",
    "if doc_type == \"TAX INVOICE\":\n",
    "    pdf_file_path = tax_invoice_path\n",
    "elif doc_type == \"PAYSLIP\":\n",
    "    pdf_file_path = pay_slip_path\n",
    "else:\n",
    "    print(\"\")\n",
    "\n",
    "# Extract text from the selected PDF file\n",
    "invoice_text = extract_text_from_pdf(pdf_file_path)\n",
    "\n",
    "# Print the extracted text\n",
    "print(invoice_text)\n"
   ]
  },
  {
   "cell_type": "code",
   "execution_count": 38,
   "metadata": {},
   "outputs": [
    {
     "data": {
      "text/html": [
       "<span class=\"tex2jax_ignore\"><div class=\"entities\" style=\"line-height: 2.5; direction: ltr\">Tax Invoice <br> <br>Invoice Number: \n",
       "<mark class=\"entity\" style=\"background: #ddd; padding: 0.45em 0.6em; margin: 0 0.25em; line-height: 1; border-radius: 0.35em;\">\n",
       "    22/2001\n",
       "    <span style=\"font-size: 0.8em; font-weight: bold; line-height: 1; border-radius: 0.35em; vertical-align: middle; margin-left: 0.5rem\">Invoice_Number</span>\n",
       "</mark>\n",
       " <br>Tax Code: \n",
       "<mark class=\"entity\" style=\"background: #ddd; padding: 0.45em 0.6em; margin: 0 0.25em; line-height: 1; border-radius: 0.35em;\">\n",
       "    1456G\n",
       "    <span style=\"font-size: 0.8em; font-weight: bold; line-height: 1; border-radius: 0.35em; vertical-align: middle; margin-left: 0.5rem\">TaxCode</span>\n",
       "</mark>\n",
       " <br>Date: \n",
       "<mark class=\"entity\" style=\"background: #bfe1d9; padding: 0.45em 0.6em; margin: 0 0.25em; line-height: 1; border-radius: 0.35em;\">\n",
       "    17 April 2024\n",
       "    <span style=\"font-size: 0.8em; font-weight: bold; line-height: 1; border-radius: 0.35em; vertical-align: middle; margin-left: 0.5rem\">Date</span>\n",
       "</mark>\n",
       " <br> <br>To: <br>\n",
       "<mark class=\"entity\" style=\"background: #ddd; padding: 0.45em 0.6em; margin: 0 0.25em; line-height: 1; border-radius: 0.35em;\">\n",
       "    Siya Philip \n",
       "71\n",
       "    <span style=\"font-size: 0.8em; font-weight: bold; line-height: 1; border-radius: 0.35em; vertical-align: middle; margin-left: 0.5rem\">FULL_NAME</span>\n",
       "</mark>\n",
       " Meadowlands, Downpatrick, BT306HG <br> <br>Service Description: \n",
       "<mark class=\"entity\" style=\"background: #7aecec; padding: 0.45em 0.6em; margin: 0 0.25em; line-height: 1; border-radius: 0.35em;\">\n",
       "    Consulting Services \n",
       " \n",
       "Amount\n",
       "    <span style=\"font-size: 0.8em; font-weight: bold; line-height: 1; border-radius: 0.35em; vertical-align: middle; margin-left: 0.5rem\">ORG</span>\n",
       "</mark>\n",
       " Due: \n",
       "<mark class=\"entity\" style=\"background: #e4e7d2; padding: 0.45em 0.6em; margin: 0 0.25em; line-height: 1; border-radius: 0.35em;\">\n",
       "    £500.00 \n",
       "\n",
       "    <span style=\"font-size: 0.8em; font-weight: bold; line-height: 1; border-radius: 0.35em; vertical-align: middle; margin-left: 0.5rem\">Money</span>\n",
       "</mark>\n",
       "Seller Account Number: \n",
       "<mark class=\"entity\" style=\"background: #ddd; padding: 0.45em 0.6em; margin: 0 0.25em; line-height: 1; border-radius: 0.35em;\">\n",
       "    11581823\n",
       "    <span style=\"font-size: 0.8em; font-weight: bold; line-height: 1; border-radius: 0.35em; vertical-align: middle; margin-left: 0.5rem\">BAN</span>\n",
       "</mark>\n",
       " <br>Sort Code: \n",
       "<mark class=\"entity\" style=\"background: #ddd; padding: 0.45em 0.6em; margin: 0 0.25em; line-height: 1; border-radius: 0.35em;\">\n",
       "    40-50-60\n",
       "    <span style=\"font-size: 0.8em; font-weight: bold; line-height: 1; border-radius: 0.35em; vertical-align: middle; margin-left: 0.5rem\">Sort_Code</span>\n",
       "</mark>\n",
       " <br> <br>Payment Due Date: \n",
       "<mark class=\"entity\" style=\"background: #bfe1d9; padding: 0.45em 0.6em; margin: 0 0.25em; line-height: 1; border-radius: 0.35em;\">\n",
       "    30 April 2024\n",
       "    <span style=\"font-size: 0.8em; font-weight: bold; line-height: 1; border-radius: 0.35em; vertical-align: middle; margin-left: 0.5rem\">Date</span>\n",
       "</mark>\n",
       " <br>Organisation: Creative \n",
       "<mark class=\"entity\" style=\"background: #7aecec; padding: 0.45em 0.6em; margin: 0 0.25em; line-height: 1; border-radius: 0.35em;\">\n",
       "    Contructions Ltd \n",
       " \n",
       "National Insurance Number:\n",
       "    <span style=\"font-size: 0.8em; font-weight: bold; line-height: 1; border-radius: 0.35em; vertical-align: middle; margin-left: 0.5rem\">ORG</span>\n",
       "</mark>\n",
       " \n",
       "<mark class=\"entity\" style=\"background: #ddd; padding: 0.45em 0.6em; margin: 0 0.25em; line-height: 1; border-radius: 0.35em;\">\n",
       "    AB123456C \n",
       "\n",
       "    <span style=\"font-size: 0.8em; font-weight: bold; line-height: 1; border-radius: 0.35em; vertical-align: middle; margin-left: 0.5rem\">NI</span>\n",
       "</mark>\n",
       "VAT Number: \n",
       "<mark class=\"entity\" style=\"background: #ddd; padding: 0.45em 0.6em; margin: 0 0.25em; line-height: 1; border-radius: 0.35em;\">\n",
       "    GB345 6789 01\n",
       "    <span style=\"font-size: 0.8em; font-weight: bold; line-height: 1; border-radius: 0.35em; vertical-align: middle; margin-left: 0.5rem\">VAT</span>\n",
       "</mark>\n",
       " <br><br><br></div></span>"
      ],
      "text/plain": [
       "<IPython.core.display.HTML object>"
      ]
     },
     "metadata": {},
     "output_type": "display_data"
    }
   ],
   "source": [
    "nlp1 = spacy.load(r\".\\output\\model-best\") #load the best model\n",
    "#invoice_text = \"Please find the VAT number GB123 4567 89 on the invoice.\"\n",
    "#doc = nlp1(\"My name is Siya Philip. My address is 11-16 Donegall Square East, Belfast, BT1 5UB. I have a friend named Hannah.My National insurance number is NZ368561C. My bank account number is 01581823. My sort code is 09-09-09. I work at BT Group.\") # input sample text\n",
    "doc = nlp1(invoice_text)\n",
    "\n",
    "spacy.displacy.render(doc, style=\"ent\", jupyter=True) # display in Jupyter"
   ]
  },
  {
   "cell_type": "code",
   "execution_count": 39,
   "metadata": {},
   "outputs": [
    {
     "name": "stdout",
     "output_type": "stream",
     "text": [
      "[('22/2001', 'Invoice_Number'), ('1456G', 'TaxCode'), ('17 April 2024', 'Date'), ('Siya Philip \\n71', 'FULL_NAME'), ('Consulting Services \\n \\nAmount', 'ORG'), ('£500.00 \\n', 'Money'), ('11581823', 'BAN'), ('40-50-60', 'Sort_Code'), ('30 April 2024', 'Date'), ('Contructions Ltd \\n \\nNational Insurance Number:', 'ORG'), ('AB123456C \\n', 'NI'), ('GB345 6789 01', 'VAT')]\n"
     ]
    }
   ],
   "source": [
    "# Sample list to store entities\n",
    "entities = []\n",
    "\n",
    "# Iterate over the entities and append text and label to the list\n",
    "for ent in doc.ents:\n",
    "    entities.append((ent.text, ent.label_))\n",
    "\n",
    "# Print the list of entities\n",
    "print(entities)"
   ]
  },
  {
   "cell_type": "code",
   "execution_count": 40,
   "metadata": {},
   "outputs": [],
   "source": [
    "from faker import Faker\n",
    "\n",
    "# Initialize Faker object\n",
    "faker = Faker()\n",
    "\n",
    "# Function to generate fake value based on the entity label\n",
    "def generate_fake_value(label):\n",
    "    if label == \"FULL_NAME\":\n",
    "        return faker.name()\n",
    "    elif label == \"ADDRESS\":\n",
    "        return faker.address()\n",
    "    elif label == \"VAT\":\n",
    "        return \"{} {} {} {}\".format(faker.random_number(digits=3), faker.random_number(digits=4), faker.random_number(digits=2), faker.random_number(digits=2))\n",
    "    elif label == \"Salary\":\n",
    "        return \"£\" + str(faker.random_number(digits=4)) + \".\" + str(faker.random_number(digits=2))\n",
    "    elif label == \"TaxCode\":\n",
    "        return str(faker.random_number(digits=4)) + \"L\"\n",
    "    elif label == \"BAN\":\n",
    "        return str(faker.random_number(digits=8))\n",
    "    elif label == \"NI\":\n",
    "        return faker.random_letter() + str(faker.random_number(digits=6)) + faker.random_letter()\n",
    "    elif label == \"Sort_Code\":\n",
    "        return \"{}-{}-{}\".format(faker.random_number(digits=2), faker.random_number(digits=2), faker.random_number(digits=2))\n",
    "    elif label == \"Date\":\n",
    "        return str(faker.date())\n",
    "    elif label == \"Invoice_Number\":\n",
    "        return str(faker.random_number(digits=2)) + \"/\" + str(faker.random_number(digits=4))\n",
    "    elif label == \"Money\":\n",
    "        return \"£\" + str(faker.random_number(digits=3)) + \".\" + str(faker.random_number(digits=2))\n",
    "    elif label == \"PhoneNumber\":\n",
    "        return faker.phone_number()\n",
    "    else:\n",
    "        return None  # Return None for unrecognized labels\n"
   ]
  },
  {
   "cell_type": "code",
   "execution_count": 41,
   "metadata": {},
   "outputs": [],
   "source": [
    "def MaskedData(entities, invoice_text):\n",
    "    # Initialize an empty string to store modified text\n",
    "    modified_text = invoice_text\n",
    "    \n",
    "    # Iterate over the identified entities\n",
    "    for ent_text, ent_label in entities:\n",
    "        # Generate fake value based on the entity label\n",
    "        fake_value = generate_fake_value(ent_label)\n",
    "        \n",
    "        # Check if fake value is not None\n",
    "        if fake_value is not None:\n",
    "            # Replace the entity text with the fake value in the text\n",
    "            modified_text = modified_text.replace(ent_text, fake_value)\n",
    "    \n",
    "    # Replace '\\n' with actual newline character '\\n'\n",
    "    modified_text = modified_text.replace('\\\\n', '\\n')\n",
    "    \n",
    "    # Return the modified text\n",
    "    print( modified_text)\n",
    "\n",
    "# Function to return original data\n",
    "def OriginalData(entities, invoice_text):\n",
    "    invoice_text = invoice_text.replace('\\\\n', '\\n')\n",
    "    # Return the original text\n",
    "    print(invoice_text) \n"
   ]
  },
  {
   "cell_type": "code",
   "execution_count": 43,
   "metadata": {},
   "outputs": [
    {
     "name": "stdout",
     "output_type": "stream",
     "text": [
      "MANAGER TAX INVOICE\n",
      "Tax Invoice \n",
      " \n",
      "Invoice Number: 22/2001 \n",
      "Tax Code: 1456G \n",
      "Date: 17 April 2024 \n",
      " \n",
      "To: \n",
      "Siya Philip \n",
      "71 Meadowlands, Downpatrick, BT306HG \n",
      " \n",
      "Service Description: Consulting Services \n",
      " \n",
      "Amount Due: £500.00 \n",
      "Seller Account Number: 11581823 \n",
      "Sort Code: 40-50-60 \n",
      " \n",
      "Payment Due Date: 30 April 2024 \n",
      "Organisation: Creative Contructions Ltd \n",
      " \n",
      "National Insurance Number: AB123456C \n",
      "VAT Number: GB345 6789 01 \n",
      "\n",
      "\n",
      "\n"
     ]
    }
   ],
   "source": [
    "# Define access levels for each combination of user designation and document type\n",
    "access_levels = {\n",
    "    \"ADMIN\": {\"PAYSLIP\": \"unmasked\", \"TAX INVOICE\": \"unmasked\"},\n",
    "    \"MANAGER\": {\"PAYSLIP\": \"masked\", \"TAX INVOICE\": \"unmasked\"},\n",
    "    \"EMPLOYEE\": {\"PAYSLIP\": \"unmasked\", \"TAX INVOICE\": \"masked\"}\n",
    "}\n",
    "\n",
    "# Function to determine whether to call MaskedData or OriginalData based on access level\n",
    "def process_document(designation, doc_type, entities, invoice_text):\n",
    "    access_level = access_levels.get(designation, {}).get(doc_type.upper(), \"masked\")\n",
    "    print(designation,doc_type)\n",
    "    if designation==\"EMPLOYEE\" and doc_type==\"TAX INVOICE\":\n",
    "         print(\"You do not have access to view this document.\")\n",
    "    elif access_level == \"unmasked\":\n",
    "        OriginalData(entities, invoice_text)\n",
    "    elif access_level == \"masked\":\n",
    "        MaskedData(entities, invoice_text)\n",
    "    \n",
    "       \n",
    "\n",
    "# Call process_document based on user input\n",
    "designation = input(\"Enter your designation (Admin/Manager/Employee): \").strip().title().upper()\n",
    "process_document(designation, doc_type, entities, invoice_text)\n"
   ]
  }
 ],
 "metadata": {
  "kernelspec": {
   "display_name": "Python 3",
   "language": "python",
   "name": "python3"
  },
  "language_info": {
   "codemirror_mode": {
    "name": "ipython",
    "version": 3
   },
   "file_extension": ".py",
   "mimetype": "text/x-python",
   "name": "python",
   "nbconvert_exporter": "python",
   "pygments_lexer": "ipython3",
   "version": "3.11.7"
  }
 },
 "nbformat": 4,
 "nbformat_minor": 2
}
